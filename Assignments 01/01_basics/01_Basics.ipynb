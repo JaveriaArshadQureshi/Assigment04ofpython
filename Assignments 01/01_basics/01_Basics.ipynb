{
  "nbformat": 4,
  "nbformat_minor": 0,
  "metadata": {
    "colab": {
      "provenance": [],
      "authorship_tag": "ABX9TyPwH1amRJm12vxKtUPTpHAS",
      "include_colab_link": true
    },
    "kernelspec": {
      "name": "python3",
      "display_name": "Python 3"
    },
    "language_info": {
      "name": "python"
    }
  },
  "cells": [
    {
      "cell_type": "markdown",
      "metadata": {
        "id": "view-in-github",
        "colab_type": "text"
      },
      "source": [
        "<a href=\"https://colab.research.google.com/github/JaveriaArshadQureshi/Assigment04ofpython/blob/main/Assignments%2001/01_basics/01_Basics.ipynb\" target=\"_parent\"><img src=\"https://colab.research.google.com/assets/colab-badge.svg\" alt=\"Open In Colab\"/></a>"
      ]
    },
    {
      "cell_type": "markdown",
      "source": [
        "##Part 00: joke_bot"
      ],
      "metadata": {
        "id": "wTR0HY57MIRM"
      }
    },
    {
      "cell_type": "code",
      "execution_count": null,
      "metadata": {
        "colab": {
          "base_uri": "https://localhost:8080/"
        },
        "id": "2cwXcm8oMBFS",
        "outputId": "48bff252-2ffa-439c-8566-beca3bd8a141"
      },
      "outputs": [
        {
          "output_type": "stream",
          "name": "stdout",
          "text": [
            "What do you want? joke\n",
            "Why did the cookie go to the doctor?\n",
            "Because it was feeling crummy! 🍪😆\n"
          ]
        }
      ],
      "source": [
        "PROMPT: str = \"What do you want? \"\n",
        "JOKE: str = \"Why did the cookie go to the doctor?\\nBecause it was feeling crummy! 🍪😆\"\n",
        "SORRY: str = \"Sorry I only tell jokes.\"\n",
        "\n",
        "def main():\n",
        "\n",
        "    user_input = input(PROMPT).strip().lower()\n",
        "\n",
        "    if \"joke\" in user_input:\n",
        "        print(JOKE)\n",
        "    else:\n",
        "        print(SORRY)\n",
        "\n",
        "if __name__ == \"__main__\":\n",
        "    main()"
      ]
    },
    {
      "cell_type": "markdown",
      "source": [
        "##Part 01: double_it"
      ],
      "metadata": {
        "id": "2YReFj4ig1HY"
      }
    },
    {
      "cell_type": "code",
      "source": [
        "def main():\n",
        "\n",
        "   user_value = int(input(\"Please enter a number: \"))\n",
        "\n",
        "   while user_value < 100:\n",
        "    user_value = user_value * 2\n",
        "    print(user_value)\n",
        "\n",
        "if __name__ == '__main__':\n",
        "  main()\n"
      ],
      "metadata": {
        "colab": {
          "base_uri": "https://localhost:8080/"
        },
        "id": "ciL9av5ojvog",
        "outputId": "e6f47576-607f-46f3-9e02-d00672529e76"
      },
      "execution_count": 6,
      "outputs": [
        {
          "output_type": "stream",
          "name": "stdout",
          "text": [
            "Please enter a number: 4\n",
            "8\n",
            "16\n",
            "32\n",
            "64\n",
            "128\n"
          ]
        }
      ]
    },
    {
      "cell_type": "markdown",
      "source": [
        "##Part 02: liftoff"
      ],
      "metadata": {
        "id": "0bcb2V6uj9GX"
      }
    },
    {
      "cell_type": "code",
      "source": [
        "def main():\n",
        "  for i in range(10, 0, -1):\n",
        "    print(i)\n",
        "\n",
        "if __name__ == '__main__':\n",
        "  main()"
      ],
      "metadata": {
        "colab": {
          "base_uri": "https://localhost:8080/"
        },
        "id": "FZCFCPtUj9Y8",
        "outputId": "d7b6fafc-2b49-4311-f0d8-1202a442b987"
      },
      "execution_count": 7,
      "outputs": [
        {
          "output_type": "stream",
          "name": "stdout",
          "text": [
            "10\n",
            "9\n",
            "8\n",
            "7\n",
            "6\n",
            "5\n",
            "4\n",
            "3\n",
            "2\n",
            "1\n"
          ]
        }
      ]
    },
    {
      "cell_type": "markdown",
      "source": [
        "##Part 03: guess_my_number"
      ],
      "metadata": {
        "id": "KecgmoozkrR4"
      }
    },
    {
      "cell_type": "code",
      "source": [
        "import random\n",
        "\n",
        "def main():\n",
        "  # Generate the secret number at random!\n",
        "  secret_number = random.randint(1,99)\n",
        "\n",
        "  print(\"I am thinking number between 1 and 99.\")\n",
        "\n",
        "  guess = int(input(\"Enter your guess: \"))\n",
        "   # True if guess is not equal to secret number\n",
        "  while guess != secret_number:\n",
        "    if guess < secret_number:\n",
        "      print(\"Your guess is to low \")\n",
        "    else:\n",
        "      print(\"Your guess is to high \")\n",
        "\n",
        "      print()\n",
        "    guess = int(input(\"Enter a new guess: \"))\n",
        "\n",
        "  print(\"congrats! The number was: \" + str(secret_number))\n",
        "\n",
        "if __name__ == \"__main__\":\n",
        "  main()\n",
        "\n",
        "\n"
      ],
      "metadata": {
        "colab": {
          "base_uri": "https://localhost:8080/"
        },
        "id": "5bGdO1P_krnt",
        "outputId": "ee5a9cb5-d72d-4e7a-f377-349307a7b307"
      },
      "execution_count": 8,
      "outputs": [
        {
          "output_type": "stream",
          "name": "stdout",
          "text": [
            "I am thinking number between 1 and 99.\n",
            "Enter your guess: 6\n",
            "Your guess is to low \n",
            "Enter a new guess: 66\n",
            "Your guess is to low \n",
            "Enter a new guess: 78\n",
            "Your guess is to high \n",
            "\n",
            "Enter a new guess: 70\n",
            "Your guess is to low \n",
            "Enter a new guess: 76\n",
            "Your guess is to high \n",
            "\n",
            "Enter a new guess: 75\n",
            "Your guess is to high \n",
            "\n",
            "Enter a new guess: 74\n",
            "congrats! The number was: 74\n"
          ]
        }
      ]
    },
    {
      "cell_type": "markdown",
      "source": [
        "##Part 04: random_numbers"
      ],
      "metadata": {
        "id": "HoC8rzwzk2vl"
      }
    },
    {
      "cell_type": "code",
      "source": [
        "import random\n",
        "\n",
        "def random_number():\n",
        "  for i in range(10):\n",
        "    num:list[int] = random.randint(1, 100)\n",
        "    print(num,end = \" \")\n",
        "\n",
        "if __name__ == '__main__':\n",
        "  random_number()\n",
        ""
      ],
      "metadata": {
        "colab": {
          "base_uri": "https://localhost:8080/"
        },
        "id": "vHC-DY_3k3B_",
        "outputId": "3bbc672a-dfe0-4728-85d7-96d87f25413a"
      },
      "execution_count": 10,
      "outputs": [
        {
          "output_type": "stream",
          "name": "stdout",
          "text": [
            "68 70 21 77 75 81 10 89 54 49 "
          ]
        }
      ]
    }
  ]
}