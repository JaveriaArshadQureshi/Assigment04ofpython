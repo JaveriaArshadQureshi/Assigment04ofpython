{
  "nbformat": 4,
  "nbformat_minor": 0,
  "metadata": {
    "colab": {
      "provenance": [],
      "authorship_tag": "ABX9TyMqsXp7XtWJqAfFkvVYIM1R",
      "include_colab_link": true
    },
    "kernelspec": {
      "name": "python3",
      "display_name": "Python 3"
    },
    "language_info": {
      "name": "python"
    }
  },
  "cells": [
    {
      "cell_type": "markdown",
      "metadata": {
        "id": "view-in-github",
        "colab_type": "text"
      },
      "source": [
        "<a href=\"https://colab.research.google.com/github/JaveriaArshadQureshi/Assigment04ofpython/blob/main/00_intro_python.ipynb\" target=\"_parent\"><img src=\"https://colab.research.google.com/assets/colab-badge.svg\" alt=\"Open In Colab\"/></a>"
      ]
    },
    {
      "cell_type": "markdown",
      "source": [
        "#Step 00: Introduction to python\n",
        "###Part 01: add_two_numbers"
      ],
      "metadata": {
        "id": "jhq71aZ0qe0R"
      }
    },
    {
      "cell_type": "code",
      "source": [
        "def main():\n",
        "    print(\"This program add two numbers.\")\n",
        "    num1 : str = input(\"Enter First number: \")\n",
        "    num1 : int = int(num1)\n",
        "    num2 : str = input(\"Enter Second number: \")\n",
        "    num2 : int = int(num2)\n",
        "    total : int = num1 + num2\n",
        "    print(\"The total is: \" + str(total) +\".\")\n",
        "\n",
        "  # This provided line is required at the end of\n",
        "  # Python file to call the main() function.\n",
        "if __name__ == '__main__':\n",
        "  main()"
      ],
      "metadata": {
        "colab": {
          "base_uri": "https://localhost:8080/"
        },
        "id": "M06RLBalq3g_",
        "outputId": "9f83646f-218b-4c29-bd50-605326102297"
      },
      "execution_count": null,
      "outputs": [
        {
          "output_type": "stream",
          "name": "stdout",
          "text": [
            "This program add two numbers.\n",
            "Enter First number: 6\n",
            "Enter Second number: 8\n",
            "The total is: 14.\n"
          ]
        }
      ]
    },
    {
      "cell_type": "markdown",
      "source": [
        "##Part 02: Agreement_bot"
      ],
      "metadata": {
        "id": "ZBELbV4124LK"
      }
    },
    {
      "cell_type": "code",
      "source": [
        "def main():\n",
        "    animal : str = input(\"What is your favorite animal? \")\n",
        "    # print(\"what is your favorite animal?\")\n",
        "    answer : str = animal\n",
        "    print(f\"My favouite animal is also {answer}!\")\n",
        "\n",
        "# This provided line is required at the end of\n",
        "# Python file to call the main() function.\n",
        "if __name__ == '__main__':\n",
        "  main()\n"
      ],
      "metadata": {
        "colab": {
          "base_uri": "https://localhost:8080/"
        },
        "id": "x7vhLsdSETmg",
        "outputId": "d4ab910e-c775-4c3a-f5fe-7355b5884e4c"
      },
      "execution_count": null,
      "outputs": [
        {
          "output_type": "stream",
          "name": "stdout",
          "text": [
            "What is your favorite animal? Cat\n",
            "My favouite animal is also Cat!\n"
          ]
        }
      ]
    },
    {
      "cell_type": "markdown",
      "source": [
        "## Part 03: Fahrenheit_to_celsius"
      ],
      "metadata": {
        "id": "eKF3acx3EnWH"
      }
    },
    {
      "cell_type": "code",
      "source": [
        "def main():\n",
        "    print(\"This program will convert temperature from fahrenheit to celius \")\n",
        "    fahrenheit  = float(input (\"Enter temperature in Fahrenheit: \"))\n",
        "    celsius = (fahrenheit - 32 )* 5.0 / 9.0 # formula which convert fahrenheit to celsius\n",
        "    print(f\"Temperature: {fahrenheit}F = {celsius}C\")\n",
        "\n",
        "\n",
        "# This provided line is required at the end of\n",
        "# Python file to call the main() function.\n",
        "if __name__ == '__main__':\n",
        "    main()"
      ],
      "metadata": {
        "colab": {
          "base_uri": "https://localhost:8080/"
        },
        "id": "Xzp9M_JrEzHz",
        "outputId": "da9cc1c7-95e6-4e79-a0bb-d65bf81a7511"
      },
      "execution_count": null,
      "outputs": [
        {
          "output_type": "stream",
          "name": "stdout",
          "text": [
            "This program will convert temperature from fahrenheit to celius \n",
            "Enter temperature in Fahrenheit: 320\n",
            "Temperature: 320.0F = 160.0C\n"
          ]
        }
      ]
    },
    {
      "cell_type": "markdown",
      "source": [
        "##Part 04: How_old_are_they"
      ],
      "metadata": {
        "id": "bE4f3trYFRt-"
      }
    },
    {
      "cell_type": "code",
      "source": [
        "def main():\n",
        "    print(\"In this program will solve age-related riddle!\\n\")\n",
        "    aton : int = 21 # Anton's age is given as 21 years old\n",
        "    beth : int = aton + 6 # Beth is 6 years older than Anton, so add 6 to Anton's age to get Beth's\n",
        "    chen : int = beth + 20 # Chen is 20 years older than Beth, so add 20 to Beth's age to get Chen's\n",
        "    drew : int = chen + aton  # Drew is as old as Chen's age plus Anton's age, so add them together\n",
        "    ethan :int = chen # Ethan is the same age as Chen, so set Ethan's age equal to Chen's\n",
        "\n",
        "    # Print out all of the ages!\n",
        "    print(\"\\t \\t Aton is \" + str(aton))\n",
        "    print(\"\\t \\t Beth is \" + str(beth))\n",
        "    print(\"\\t \\t Chen is \" + str(chen))\n",
        "    print(\"\\t \\t Drew is \" + str(drew))\n",
        "    print(\"\\t \\t Ethan is \" + str(ethan))\n",
        "\n",
        "# This provided line is required at the end of\n",
        "# Python file to call the main() function.\n",
        "\n",
        "if __name__ == '__main__':\n",
        "    main()"
      ],
      "metadata": {
        "colab": {
          "base_uri": "https://localhost:8080/"
        },
        "id": "8BJzWZaLFj1W",
        "outputId": "4d42e343-e556-44c2-8b34-9d2cc3d9a1c7"
      },
      "execution_count": null,
      "outputs": [
        {
          "output_type": "stream",
          "name": "stdout",
          "text": [
            "In this program will solve age-related riddle!\n",
            "\n",
            "\t \t Aton is 21\n",
            "\t \t Beth is 27\n",
            "\t \t Chen is 47\n",
            "\t \t Drew is 68\n",
            "\t \t Ethan is 47\n"
          ]
        }
      ]
    },
    {
      "cell_type": "markdown",
      "source": [
        "##Part05: Triangle_perimeter\n"
      ],
      "metadata": {
        "id": "X3h_ZDBzGQOm"
      }
    },
    {
      "cell_type": "code",
      "source": [
        "def main():\n",
        "    # get the 3 side length of triangle\n",
        "    side_01 : float = float(input(\"Enter the length of side 1? \"))\n",
        "    side_02 : float = float(input(\"Enter the length of side 2? \"))\n",
        "    side_03 : float = float(input(\"Enter the length of side 3? \"))\n",
        "\n",
        "    # Print out the perimeter (sum of the sides) of the triangle, make sure to cast it to a str when concatenating!\n",
        "    print(\"The parimeters of triangle is: \" + str(side_01 + side_02 + side_03))\n",
        "\n",
        "# This provided line is required at the end of\n",
        "# Python file to call the main() function.\n",
        "if  __name__ == '__main__':\n",
        "    main()\n",
        "\n",
        "\n",
        "\n"
      ],
      "metadata": {
        "colab": {
          "base_uri": "https://localhost:8080/"
        },
        "id": "EkjbALd-GgX6",
        "outputId": "23a70efe-df19-4e26-dbd1-b8fe1dbcb712"
      },
      "execution_count": null,
      "outputs": [
        {
          "output_type": "stream",
          "name": "stdout",
          "text": [
            "Enter the length of side 1? 2\n",
            "Enter the length of side 2? 4\n",
            "Enter the length of side 3? 2\n",
            "The parimeters of triangle is: 8.0\n"
          ]
        }
      ]
    },
    {
      "cell_type": "markdown",
      "source": [
        "##Part06: Square_number\n"
      ],
      "metadata": {
        "id": "PBs0T1A7Ln2M"
      }
    },
    {
      "cell_type": "code",
      "source": [
        "def main():\n",
        "    num : float = float(input(\"Type the number to see its sqaure: \"))\n",
        "    print(str(num) + \" sqaured is \" + str(num ** 2))\n",
        "\n",
        "if __name__ == '__main__':\n",
        "  main()"
      ],
      "metadata": {
        "colab": {
          "base_uri": "https://localhost:8080/"
        },
        "id": "AMvEUzWrL_ky",
        "outputId": "955cd19a-58b9-4a2c-9300-1278cb8cb220"
      },
      "execution_count": null,
      "outputs": [
        {
          "output_type": "stream",
          "name": "stdout",
          "text": [
            "Type the number to see its sqaure: 6\n",
            "6.0 sqaured is 36.0\n"
          ]
        }
      ]
    }
  ]
}