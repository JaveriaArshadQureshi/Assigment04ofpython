{
  "nbformat": 4,
  "nbformat_minor": 0,
  "metadata": {
    "colab": {
      "provenance": [],
      "authorship_tag": "ABX9TyPrDTJLMrcT1u3a4icZkg4z",
      "include_colab_link": true
    },
    "kernelspec": {
      "name": "python3",
      "display_name": "Python 3"
    },
    "language_info": {
      "name": "python"
    }
  },
  "cells": [
    {
      "cell_type": "markdown",
      "metadata": {
        "id": "view-in-github",
        "colab_type": "text"
      },
      "source": [
        "<a href=\"https://colab.research.google.com/github/JaveriaArshadQureshi/Assigment04ofpython/blob/main/Assignments%2000_to_05/03_if_statement.ipynb\" target=\"_parent\"><img src=\"https://colab.research.google.com/assets/colab-badge.svg\" alt=\"Open In Colab\"/></a>"
      ]
    },
    {
      "cell_type": "markdown",
      "source": [
        "##Part 01: print_events"
      ],
      "metadata": {
        "id": "1O4L7vSS-vD_"
      }
    },
    {
      "cell_type": "code",
      "execution_count": null,
      "metadata": {
        "colab": {
          "base_uri": "https://localhost:8080/"
        },
        "id": "kCE0OPY54IB6",
        "outputId": "c1a269af-9e67-405a-df03-64872c173c44"
      },
      "outputs": [
        {
          "output_type": "stream",
          "name": "stdout",
          "text": [
            "0\n",
            "2\n",
            "4\n",
            "6\n",
            "8\n",
            "10\n",
            "12\n",
            "14\n",
            "16\n",
            "18\n",
            "20\n",
            "22\n",
            "24\n",
            "26\n",
            "28\n",
            "30\n",
            "32\n",
            "34\n",
            "36\n",
            "38\n"
          ]
        }
      ],
      "source": [
        "def main():\n",
        "  for i in range(20):\n",
        "    print(i * 2)\n",
        "\n",
        "if __name__ == '__main__':\n",
        "  main()"
      ]
    },
    {
      "cell_type": "markdown",
      "source": [
        "##Part 02: international_voting_age\n"
      ],
      "metadata": {
        "id": "i22vx6GtAsW1"
      }
    },
    {
      "cell_type": "code",
      "source": [
        "PETURKSBOUIPO_AGE : int = 16\n",
        "STANLAU_AGE : int = 25\n",
        "MAYENGUA_AGE : int = 48\n",
        "\n",
        "def main():\n",
        "  user_age = int(input(\"How old are you? \"))\n",
        "\n",
        "  if user_age >= PETURKSBOUIPO_AGE:\n",
        "    print(\"You can vote in Peturksbouipo where the voting age is \" + str(PETURKSBOUIPO_AGE) + \".\")\n",
        "  else:\n",
        "    print(\"You cannot vote in Peturksbouipo where the voting age is \" + str(PETURKSBOUIPO_AGE) + \".\")\n",
        "\n",
        "  if user_age >= STANLAU_AGE:\n",
        "    print(\"You can vote in Stanlau where the voting age is \" + str(STANLAU_AGE) + \".\")\n",
        "  else:\n",
        "    print(\"You cannot vote in Stanlau where the voting age is \" + str(STANLAU_AGE) + \".\")\n",
        "\n",
        "  if user_age >= MAYENGUA_AGE:\n",
        "    print(\"You can vote in Peturksbouipo where the voting age is \" + str(MAYENGUA_AGE) + \".\")\n",
        "  else:\n",
        "    print(\"You cannot vote in Peturksbouipo where the voting age is \" + str(MAYENGUA_AGE) + \".\")\n",
        "\n",
        "if __name__ == '__main__':\n",
        "  main()\n",
        "\n",
        "\n",
        "\n",
        "\n"
      ],
      "metadata": {
        "colab": {
          "base_uri": "https://localhost:8080/"
        },
        "id": "dEcdUsmPS9YD",
        "outputId": "f3a1a0f6-cc36-470f-f0b2-8cfb306ee2b2"
      },
      "execution_count": null,
      "outputs": [
        {
          "output_type": "stream",
          "name": "stdout",
          "text": [
            "How old are you? 50\n",
            "You can vote in Peturksbouipo where the voting age is 16.\n",
            "You can vote in Stanlau where the voting age is 25.\n",
            "You can vote in Peturksbouipo where the voting age is 48.\n"
          ]
        }
      ]
    },
    {
      "cell_type": "markdown",
      "source": [
        "##Part 03: leap_year"
      ],
      "metadata": {
        "id": "mquYhNc7b9PI"
      }
    },
    {
      "cell_type": "code",
      "source": [
        "def main():\n",
        "  year : int = int(input(\"Enter a year: \"))\n",
        "\n",
        "  if year % 4 == 0:\n",
        "    if year % 100 == 0:\n",
        "      if year % 400 == 0:\n",
        "        print(\"That is a leap year.\")\n",
        "      else:\n",
        "        print(\"That is not a leap year.\")\n",
        "    else:\n",
        "      print(\"That is a leap year.\")\n",
        "  else:\n",
        "    print(\"That is not a leap year.\")\n",
        "\n",
        "if __name__ == '__main__':\n",
        "  main()"
      ],
      "metadata": {
        "id": "Bf8ZzUZ3lN8M",
        "colab": {
          "base_uri": "https://localhost:8080/"
        },
        "outputId": "a9c08688-087a-4419-c9b3-e884618798d8"
      },
      "execution_count": null,
      "outputs": [
        {
          "output_type": "stream",
          "name": "stdout",
          "text": [
            "Enter a year: 2024\n",
            "That is a leap year.\n"
          ]
        }
      ]
    },
    {
      "cell_type": "markdown",
      "source": [
        "##Part 04: tall_enough_to_ride\n"
      ],
      "metadata": {
        "id": "nwyMXKuIFWmg"
      }
    },
    {
      "cell_type": "code",
      "source": [
        "MINIMUM_HEIGHT : float = 4.5\n",
        "\n",
        "def main():\n",
        "  height = float(input(\"Enter your height: \"))\n",
        "  if height >= MINIMUM_HEIGHT:\n",
        "     print(\"You're tall enough to ride!\")\n",
        "  else:\n",
        "     print(\"You're not tall enough to ride, but maybe next year!\")\n",
        "\n",
        "if __name__ == '__main__':\n",
        "  main()"
      ],
      "metadata": {
        "colab": {
          "base_uri": "https://localhost:8080/"
        },
        "id": "JJJ3jryUFfpI",
        "outputId": "3205b25a-ed97-408e-b5a4-fc3885c0338c"
      },
      "execution_count": null,
      "outputs": [
        {
          "output_type": "stream",
          "name": "stdout",
          "text": [
            "Enter your height5\n",
            "You're tall enough to ride!\n"
          ]
        }
      ]
    },
    {
      "cell_type": "markdown",
      "source": [
        "##Part 05: random_numbers"
      ],
      "metadata": {
        "id": "XAeeYP3aIwMa"
      }
    },
    {
      "cell_type": "code",
      "source": [
        "import random\n",
        "\n",
        "def random_number():\n",
        "  for i in range(10):\n",
        "    num:list[int] = random.randint(1, 100)\n",
        "    print(num)\n",
        "\n",
        "if __name__ == '__main__':\n",
        "  random_number()"
      ],
      "metadata": {
        "colab": {
          "base_uri": "https://localhost:8080/"
        },
        "id": "5rdVL_rtI4w2",
        "outputId": "5e8439ca-3291-43e1-c2b6-acc93520bcbe"
      },
      "execution_count": null,
      "outputs": [
        {
          "output_type": "stream",
          "name": "stdout",
          "text": [
            "46\n",
            "1\n",
            "95\n",
            "15\n",
            "55\n",
            "71\n",
            "69\n",
            "30\n",
            "13\n",
            "14\n"
          ]
        }
      ]
    }
  ]
}