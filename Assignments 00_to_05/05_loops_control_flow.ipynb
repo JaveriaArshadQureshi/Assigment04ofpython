{
  "nbformat": 4,
  "nbformat_minor": 0,
  "metadata": {
    "colab": {
      "provenance": [],
      "authorship_tag": "ABX9TyM7Tb5LDki+Hjpk3gA8itKW",
      "include_colab_link": true
    },
    "kernelspec": {
      "name": "python3",
      "display_name": "Python 3"
    },
    "language_info": {
      "name": "python"
    }
  },
  "cells": [
    {
      "cell_type": "markdown",
      "metadata": {
        "id": "view-in-github",
        "colab_type": "text"
      },
      "source": [
        "<a href=\"https://colab.research.google.com/github/JaveriaArshadQureshi/Assigment04ofpython/blob/main/Assignments%2000_to_05/05_loops_control_flow.ipynb\" target=\"_parent\"><img src=\"https://colab.research.google.com/assets/colab-badge.svg\" alt=\"Open In Colab\"/></a>"
      ]
    },
    {
      "cell_type": "markdown",
      "source": [
        "##Part 01: guess_my_number"
      ],
      "metadata": {
        "id": "nQfzUpp2pVU7"
      }
    },
    {
      "cell_type": "code",
      "execution_count": null,
      "metadata": {
        "colab": {
          "base_uri": "https://localhost:8080/"
        },
        "id": "DgY62NLed9sq",
        "outputId": "c4cbcf22-8291-49ac-86a1-ab8880fd72a4"
      },
      "outputs": [
        {
          "output_type": "stream",
          "name": "stdout",
          "text": [
            "I am thinking number between 1 and 99.\n",
            "Enter your guess: 5\n",
            "Your guess is to low \n",
            "Enter a new guess: 78\n",
            "Your guess is to high \n",
            "\n",
            "Enter a new guess: 65\n",
            "Your guess is to high \n",
            "\n",
            "Enter a new guess: 50\n",
            "Your guess is to low \n",
            "Enter a new guess: 55\n",
            "Your guess is to low \n",
            "Enter a new guess: 60\n",
            "Your guess is to low \n",
            "Enter a new guess: 63\n",
            "Your guess is to high \n",
            "\n",
            "Enter a new guess: 61\n",
            "Your guess is to low \n",
            "Enter a new guess: 62\n",
            "congrats! The number was: 62\n"
          ]
        }
      ],
      "source": [
        "import random\n",
        "\n",
        "def main():\n",
        "  # Generate the secret number at random!\n",
        "  secret_number = random.randint(1,99)\n",
        "\n",
        "  print(\"I am thinking number between 1 and 99.\")\n",
        "\n",
        "  guess = int(input(\"Enter your guess: \"))\n",
        "   # True if guess is not equal to secret number\n",
        "  while guess != secret_number:\n",
        "    if guess < secret_number:\n",
        "      print(\"Your guess is to low \")\n",
        "    else:\n",
        "      print(\"Your guess is to high \")\n",
        "\n",
        "      print()\n",
        "    guess = int(input(\"Enter a new guess: \"))\n",
        "\n",
        "  print(\"congrats! The number was: \" + str(secret_number))\n",
        "\n",
        "if __name__ == \"__main__\":\n",
        "  main()\n",
        "\n",
        "\n"
      ]
    },
    {
      "cell_type": "markdown",
      "source": [
        "##Part 02: fibonacci"
      ],
      "metadata": {
        "id": "SX4CVwu1_IT3"
      }
    },
    {
      "cell_type": "code",
      "source": [
        "MAX_TERM_VALUE : int = 10000\n",
        "\n",
        "def main():\n",
        "    current_term  = 0\n",
        "    next_term  = 1\n",
        "    while current_term <= MAX_TERM_VALUE:\n",
        "      print(current_term)\n",
        "      term_after_next = current_term + next_term\n",
        "      current_term = next_term\n",
        "      next_term = term_after_next\n",
        "\n",
        "if __name__ == '__main__':\n",
        "  main()"
      ],
      "metadata": {
        "colab": {
          "base_uri": "https://localhost:8080/"
        },
        "id": "fVIArJsqWoqb",
        "outputId": "00021d18-1a6b-43da-f6be-9a4f4c154182"
      },
      "execution_count": null,
      "outputs": [
        {
          "output_type": "stream",
          "name": "stdout",
          "text": [
            "0\n",
            "1\n",
            "1\n",
            "2\n",
            "3\n",
            "5\n",
            "8\n",
            "13\n",
            "21\n",
            "34\n",
            "55\n",
            "89\n",
            "144\n",
            "233\n",
            "377\n",
            "610\n",
            "987\n",
            "1597\n",
            "2584\n",
            "4181\n",
            "6765\n"
          ]
        }
      ]
    },
    {
      "cell_type": "markdown",
      "source": [
        "##Part 02: print_events"
      ],
      "metadata": {
        "id": "6FNCyNxdgFu-"
      }
    },
    {
      "cell_type": "code",
      "source": [
        "def main():\n",
        "  for i in range(20):\n",
        "    print(i * 2)\n",
        "\n",
        "if __name__ == '__main__':\n",
        "  main()\n"
      ],
      "metadata": {
        "colab": {
          "base_uri": "https://localhost:8080/"
        },
        "id": "xk5E7kpPgpwj",
        "outputId": "652c3f87-45cd-47d9-8475-b64cd7f48b4f"
      },
      "execution_count": null,
      "outputs": [
        {
          "output_type": "stream",
          "name": "stdout",
          "text": [
            "0\n",
            "2\n",
            "4\n",
            "6\n",
            "8\n",
            "10\n",
            "12\n",
            "14\n",
            "16\n",
            "18\n",
            "20\n",
            "22\n",
            "24\n",
            "26\n",
            "28\n",
            "30\n",
            "32\n",
            "34\n",
            "36\n",
            "38\n"
          ]
        }
      ]
    },
    {
      "cell_type": "markdown",
      "source": [
        "##Part 03: wholesome_machine"
      ],
      "metadata": {
        "id": "mQjI3M77o24P"
      }
    },
    {
      "cell_type": "code",
      "source": [
        "AFFIRMATION : str = \"I am capable of doing anything I put my mind to.\"\n",
        "\n",
        "def main():\n",
        "    print(\"Please type the following affirmation: \" + AFFIRMATION)\n",
        "\n",
        "    user_feedback = input()  # Get user's input\n",
        "    while user_feedback != AFFIRMATION:  # While the user's input isn't the affirmation\n",
        "        # Tell the user that they did not type the affirmation correctly\n",
        "        print(\"That was not the affirmation.\")\n",
        "\n",
        "        # Ask the user to type the affirmation again!\n",
        "        print(\"Please type the following affirmation: \" + AFFIRMATION)\n",
        "        user_feedback = input()\n",
        "\n",
        "    print(\"That's right! :)\")\n",
        "\n",
        "\n",
        "# There is no need to edit code beyond this point\n",
        "\n",
        "if __name__ == '__main__':\n",
        "    main()"
      ],
      "metadata": {
        "id": "e9Fl0clwD1os",
        "colab": {
          "base_uri": "https://localhost:8080/"
        },
        "outputId": "3b11851e-d307-4379-bdf0-15e144839106"
      },
      "execution_count": null,
      "outputs": [
        {
          "output_type": "stream",
          "name": "stdout",
          "text": [
            "Please type the following affirmation: I am capable of doing anything I put my mind to.\n",
            "ok\n",
            "That was not the affirmation.\n",
            "Please type the following affirmation: I am capable of doing anything I put my mind to.\n",
            "I am capable of doing anything I put my mind to\n",
            "That was not the affirmation.\n",
            "Please type the following affirmation: I am capable of doing anything I put my mind to.\n",
            "I am capable of doing anything I put my mind to. I am capable of doing anything I put my mind to\n",
            "That was not the affirmation.\n",
            "Please type the following affirmation: I am capable of doing anything I put my mind to.\n",
            " I am capable of doing anything I put my mind to. I am capable of doing anything I put my mind to\n",
            "That was not the affirmation.\n",
            "Please type the following affirmation: I am capable of doing anything I put my mind to.\n",
            " I am capable of doing anything I put my mind to.\n",
            "That was not the affirmation.\n",
            "Please type the following affirmation: I am capable of doing anything I put my mind to.\n",
            "I am capable of doing anything I put my mind to.\n",
            "That's right! :)\n"
          ]
        }
      ]
    },
    {
      "cell_type": "markdown",
      "source": [
        "##Part 04: liftoff\n"
      ],
      "metadata": {
        "id": "oONWlTGdD-0X"
      }
    },
    {
      "cell_type": "code",
      "source": [
        "def main():\n",
        "  for i in range(10, 0, -1):\n",
        "    print(i)\n",
        "\n",
        "if __name__ == '__main__':\n",
        "  main()\n"
      ],
      "metadata": {
        "colab": {
          "base_uri": "https://localhost:8080/"
        },
        "id": "z5sCVz3vF9YG",
        "outputId": "547a82fb-6bc0-416b-ca50-7613ba636614"
      },
      "execution_count": null,
      "outputs": [
        {
          "output_type": "stream",
          "name": "stdout",
          "text": [
            "10\n",
            "9\n",
            "8\n",
            "7\n",
            "6\n",
            "5\n",
            "4\n",
            "3\n",
            "2\n",
            "1\n"
          ]
        }
      ]
    },
    {
      "cell_type": "markdown",
      "source": [
        "##Part 05: double_it"
      ],
      "metadata": {
        "id": "0u_xuZ8CMUHo"
      }
    },
    {
      "cell_type": "code",
      "source": [
        "def main():\n",
        "\n",
        "   user_value = int(input(\"Please enter a number: \"))\n",
        "\n",
        "   while user_value < 100:\n",
        "    user_value = user_value * 2\n",
        "    print(user_value)\n",
        "\n",
        "if __name__ == '__main__':\n",
        "  main()\n"
      ],
      "metadata": {
        "colab": {
          "base_uri": "https://localhost:8080/"
        },
        "id": "FHHBjTWhMsgi",
        "outputId": "779dca58-8f2d-4e02-9b84-1a975364b085"
      },
      "execution_count": null,
      "outputs": [
        {
          "output_type": "stream",
          "name": "stdout",
          "text": [
            "Please enter a number: 5\n",
            "10\n",
            "20\n",
            "40\n",
            "80\n",
            "160\n"
          ]
        }
      ]
    }
  ]
}