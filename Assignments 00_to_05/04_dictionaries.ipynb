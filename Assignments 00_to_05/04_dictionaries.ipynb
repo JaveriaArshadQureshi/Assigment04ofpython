{
  "cells": [
    {
      "cell_type": "markdown",
      "metadata": {
        "id": "view-in-github",
        "colab_type": "text"
      },
      "source": [
        "<a href=\"https://colab.research.google.com/github/JaveriaArshadQureshi/Assigment04ofpython/blob/main/Assignments%2000_to_05/04_dictionaries.ipynb\" target=\"_parent\"><img src=\"https://colab.research.google.com/assets/colab-badge.svg\" alt=\"Open In Colab\"/></a>"
      ]
    },
    {
      "cell_type": "markdown",
      "metadata": {
        "id": "4TOlmGn8Jj6j"
      },
      "source": [
        "##Part 00: count_nums"
      ]
    },
    {
      "cell_type": "code",
      "execution_count": null,
      "metadata": {
        "colab": {
          "base_uri": "https://localhost:8080/"
        },
        "id": "mOFTazfrJbnN",
        "outputId": "8e1a6d27-7adf-4a17-bb60-92d7a685c570"
      },
      "outputs": [
        {
          "name": "stdout",
          "output_type": "stream",
          "text": [
            "Enter a number: 2\n",
            "Enter a number: 2\n",
            "Enter a number: 4\n",
            "Enter a number: 4\n",
            "Enter a number: 5\n",
            "Enter a number: 6\n",
            "Enter a number: 6\n",
            "Enter a number: 6\n",
            "Enter a number: \n",
            "2 appears 2 times.\n",
            "4 appears 2 times.\n",
            "5 appears 1 times.\n",
            "6 appears 3 times.\n"
          ]
        }
      ],
      "source": [
        "\n",
        "def get_user_numbers():\n",
        "    \"\"\"\n",
        "    Create an empty list.\n",
        "    Ask the user to input numbers and store them in a list.\n",
        "    Once they enter a blank line, break out of the loop and return the list.\n",
        "    \"\"\"\n",
        "    user_numbers = []\n",
        "    while True:\n",
        "        user_input = input(\"Enter a number: \")\n",
        "\n",
        "        # If the user enters a blank line, break out of the loop and stop asking for input\n",
        "        if user_input == \"\":\n",
        "            break\n",
        "\n",
        "        # convert the user input to an integer and add it to the list\n",
        "        num = int(user_input)\n",
        "        user_numbers.append(num)\n",
        "\n",
        "    return user_numbers\n",
        "\n",
        "def count_nums(num_lst):\n",
        "    \"\"\"\n",
        "    Create an empty dictionary.\n",
        "    Loop over the list of numbers.\n",
        "    If the number is not in the dictionary, add it as a key with a value of 1.\n",
        "    If the number is in the dictionary, increment its value by 1.\n",
        "    \"\"\"\n",
        "    num_dict = {}\n",
        "    for num in num_lst:\n",
        "        if num not in num_dict:\n",
        "            num_dict[num] = 1\n",
        "        else:\n",
        "            num_dict[num] += 1\n",
        "\n",
        "    return num_dict\n",
        "\n",
        "\n",
        "def print_counts(num_dict):\n",
        "    \"\"\"\n",
        "    Loop over the dictionary and print out each key and its value.\n",
        "    \"\"\"\n",
        "    for num in num_dict:\n",
        "        print(str(num) + \" appears \" + str(num_dict[num]) + \" times.\")\n",
        "\n",
        "\n",
        "def main():\n",
        "    \"\"\"\n",
        "    Ask the user to input numbers and store them in a list. Once they enter a blank line,\n",
        "    print out the number of times each number appeared in the list.\n",
        "    \"\"\"\n",
        "    user_numbers = get_user_numbers()\n",
        "    num_dict = count_nums(user_numbers)\n",
        "    print_counts(num_dict)\n",
        "\n",
        "\n",
        "# Python boilerplate.\n",
        "if __name__ == '__main__':\n",
        "    main()"
      ]
    },
    {
      "cell_type": "markdown",
      "metadata": {
        "id": "t_q3F4SJ0CqX"
      },
      "source": [
        "##Part 01: phonebook"
      ]
    },
    {
      "cell_type": "code",
      "execution_count": null,
      "metadata": {
        "colab": {
          "base_uri": "https://localhost:8080/"
        },
        "id": "3syVfKjJ0OSk",
        "outputId": "23a53eea-3675-4fc4-93ec-7a84e51615f0"
      },
      "outputs": [
        {
          "name": "stdout",
          "output_type": "stream",
          "text": [
            "Name: ali\n",
            "Number: 11111111\n",
            "Name: fayyaz\n",
            "Number: 22222222\n",
            "Name: \n",
            "ali -> 11111111\n",
            "fayyaz -> 22222222\n",
            "Enter name to lookup: ali\n",
            "11111111\n",
            "Enter name to lookup: fayyaz\n",
            "22222222\n",
            "Enter name to lookup: fatima\n",
            "fatima is not in the phonebook\n",
            "Enter name to lookup: \n"
          ]
        }
      ],
      "source": [
        "def read_phone_numbers():\n",
        "    \"\"\"\n",
        "    Ask the user for names/numbers to story in a phonebook (dictionary).\n",
        "    Returns the phonebook.\n",
        "    \"\"\"\n",
        "    phonebook = {}                   # Create empty phonebook\n",
        "\n",
        "    while True:\n",
        "        name = input(\"Name: \")\n",
        "        if name == \"\":\n",
        "            break\n",
        "        number = input(\"Number: \")\n",
        "        phonebook[name] = number\n",
        "\n",
        "    return phonebook\n",
        "\n",
        "\n",
        "def print_phonebook(phonebook):\n",
        "    \"\"\"\n",
        "    Prints out all the names/numbers in the phonebook.\n",
        "    \"\"\"\n",
        "    for name in phonebook:\n",
        "        print(str(name) + \" -> \" + str(phonebook[name]))\n",
        "\n",
        "\n",
        "def lookup_numbers(phonebook):\n",
        "    \"\"\"\n",
        "    Allow the user to lookup phone numbers in the phonebook\n",
        "    by looking up the number associated with a name.\n",
        "    \"\"\"\n",
        "    while True:\n",
        "        name = input(\"Enter name to lookup: \")\n",
        "        if name == \"\":\n",
        "            break\n",
        "        if name not in phonebook:\n",
        "            print(name + \" is not in the phonebook\")\n",
        "        else:\n",
        "            print(phonebook[name])\n",
        "\n",
        "\n",
        "def main():\n",
        "    phonebook = read_phone_numbers()\n",
        "    print_phonebook(phonebook)\n",
        "    lookup_numbers(phonebook)\n",
        "\n",
        "\n",
        "# Python boilerplate.\n",
        "if __name__ == '__main__':\n",
        "    main()"
      ]
    },
    {
      "cell_type": "markdown",
      "source": [
        "##Part 02: pop_up_shop  "
      ],
      "metadata": {
        "id": "pHZPIhEP8rdO"
      }
    },
    {
      "cell_type": "code",
      "source": [
        "def main():\n",
        "  fruits ={'apple': 1.5, 'durian': 50, 'jackfruit': 80, 'kiwi': 1, 'rambutan': 1.5, 'mango': 5}\n",
        "\n",
        "  total_const = 0\n",
        "  for fruits_name in fruits:\n",
        "    price = fruits[fruits_name]\n",
        "    amount_bought = int(input(f\"How many {fruits_name} do you want to buy? \"))\n",
        "    total_const += (price * amount_bought)\n",
        "\n",
        "  print(\"Your total is $: \" + str(total_const))\n",
        "\n",
        "if __name__ == '__main__':\n",
        "  main()\n"
      ],
      "metadata": {
        "colab": {
          "base_uri": "https://localhost:8080/"
        },
        "id": "ZO8AOLvZ9M6S",
        "outputId": "232f14af-4a6a-45c4-b9b4-d0c49dee91f6"
      },
      "execution_count": null,
      "outputs": [
        {
          "output_type": "stream",
          "name": "stdout",
          "text": [
            "How many apple do you want to buy? 20\n",
            "How many durian do you want to buy? 0\n",
            "How many jackfruit do you want to buy? 2\n",
            "How many kiwi do you want to buy? 3\n",
            "How many rambutan do you want to buy? 3\n",
            "How many mango do you want to buy? 12\n",
            "Your total is $: 257.5\n"
          ]
        }
      ]
    },
    {
      "cell_type": "markdown",
      "source": [
        "##Part 03: powerful_passwords"
      ],
      "metadata": {
        "id": "w9IaWU7OfPI6"
      }
    },
    {
      "cell_type": "code",
      "source": [
        "import hashlib # import modula The hashlib module in Python is used for secure hashing. In simpler terms, it provides functions to generate one-way hashes (digests) of data.\n",
        "\n",
        "##create function to hashing the password\n",
        "def hash_password(password):\n",
        "   \"\"\"Hashes the given password using SHA256 and returns the\n",
        "   hexadecimal digest.\"\"\"\n",
        "\n",
        "   return hashlib.sha256(password.encode()).hexdigest()\n",
        "\n",
        "##create dictionary to store the email and hashed password\n",
        "stored_logins = {\n",
        "    \"email@email.com\": hash_password(\"password@1234\"),\n",
        "    \"ali@gmail.com\" : hash_password(\"ali@g123\")\n",
        "}\n",
        "\n",
        "def login(email, password):\n",
        "  \"\"\"\n",
        "  Verifies if the provided email and password match the stored credentials.\n",
        "\n",
        "  Args:\n",
        "    email: The user's email address.\n",
        "    password: The user's password.\n",
        "\n",
        "  Returns:\n",
        "    True if the email and password match the stored credentials, False otherwise.\n",
        "  \"\"\"\n",
        "  # Check if the email is in the stored logins dictionary\n",
        "\n",
        "  if email in stored_logins :\n",
        "\n",
        "    # If the email is found, compare the hashed password with the stored hashed password\n",
        "    # If they match, return True, indicating successful login\n",
        "    # Otherwise, return False, indicating login failure\n",
        "    return stored_logins[email] == hash_password(password)\n",
        "  # If the email is not found in the stored logins, return False, indicating login failure\n",
        "  return False\n",
        "\n",
        "\n",
        "if __name__ == '__main__':\n",
        "\n",
        "#get input from user\n",
        "  email = input(\"Enter your email\")\n",
        "  password = input(\"Enter your password\")\n",
        "\n",
        "# check user is valid or not\n",
        "  if login(email,password):\n",
        "    print(\"Login successfully!\")\n",
        "  else:\n",
        "    print(\"Invalid email or password\")\n",
        "\n"
      ],
      "metadata": {
        "id": "IqwOpHerfZfC",
        "colab": {
          "base_uri": "https://localhost:8080/"
        },
        "outputId": "a1ad8264-467b-41eb-935b-13cf2cfa0f9a"
      },
      "execution_count": null,
      "outputs": [
        {
          "output_type": "stream",
          "name": "stdout",
          "text": [
            "Enter your emailali@gmail.com\n",
            "Enter your passwordali@g123\n",
            "Login successfully!\n"
          ]
        }
      ]
    }
  ],
  "metadata": {
    "colab": {
      "provenance": [],
      "authorship_tag": "ABX9TyPt6JnrwwPfNKA/dO812j0q",
      "include_colab_link": true
    },
    "kernelspec": {
      "display_name": "Python 3",
      "name": "python3"
    },
    "language_info": {
      "name": "python"
    }
  },
  "nbformat": 4,
  "nbformat_minor": 0
}