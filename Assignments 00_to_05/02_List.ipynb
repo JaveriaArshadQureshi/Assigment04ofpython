{
  "nbformat": 4,
  "nbformat_minor": 0,
  "metadata": {
    "colab": {
      "provenance": [],
      "authorship_tag": "ABX9TyMv8a9UbjeRlAgjHKBWU62L",
      "include_colab_link": true
    },
    "kernelspec": {
      "name": "python3",
      "display_name": "Python 3"
    },
    "language_info": {
      "name": "python"
    }
  },
  "cells": [
    {
      "cell_type": "markdown",
      "metadata": {
        "id": "view-in-github",
        "colab_type": "text"
      },
      "source": [
        "<a href=\"https://colab.research.google.com/github/JaveriaArshadQureshi/Assigment04ofpython/blob/main/Assignments%2000_to_05/02_List.ipynb\" target=\"_parent\"><img src=\"https://colab.research.google.com/assets/colab-badge.svg\" alt=\"Open In Colab\"/></a>"
      ]
    },
    {
      "cell_type": "markdown",
      "source": [
        "##Part 01: add_many_number\n"
      ],
      "metadata": {
        "id": "zTfZ80Qj_dAx"
      }
    },
    {
      "cell_type": "code",
      "source": [
        "def add_many_numbers(numbers)-> int:\n",
        "    \"\"\"\n",
        "    Takes in a list of numbers and returns the sum of those numbers.\n",
        "    \"\"\"\n",
        "    total_so_far: int = 0\n",
        "    for number in numbers:\n",
        "        total_so_far += number\n",
        "\n",
        "    return total_so_far\n",
        "\n",
        "def main():\n",
        "    numbers : list[int] = [1, 2, 3, 4, 5, 6, 7, 8]\n",
        "    sum_of_numbers : int = add_many_numbers(numbers)\n",
        "    print(sum_of_numbers)\n",
        "\n",
        "if __name__ == '__main__':\n",
        "    main()\n",
        "\n",
        "\n"
      ],
      "metadata": {
        "colab": {
          "base_uri": "https://localhost:8080/"
        },
        "id": "yKDJioYvKRaO",
        "outputId": "903def15-3957-4795-c873-ec74f44c1189"
      },
      "execution_count": null,
      "outputs": [
        {
          "output_type": "stream",
          "name": "stdout",
          "text": [
            "36\n"
          ]
        }
      ]
    },
    {
      "cell_type": "markdown",
      "source": [
        "##Part 02: Double_list"
      ],
      "metadata": {
        "id": "iFw_WUddWJ2a"
      }
    },
    {
      "cell_type": "code",
      "source": [
        "def main():\n",
        "    numbers : list[int] = [1, 2, 3, 4]\n",
        "\n",
        "    for i in range(len(numbers)): # Loop through the indices of the list\n",
        "        elem_at_index = numbers[i] # Get the element at index i in the numbers list\n",
        "        numbers[i] = elem_at_index * 2  # Set the element at index i to be equal to the previous element times 2\n",
        "\n",
        "    print(numbers)  # This should print the doubled list\n",
        "\n",
        "\n",
        "# There is no need to edit code beyond this point\n",
        "\n",
        "if __name__ == '__main__':\n",
        "    main()\n"
      ],
      "metadata": {
        "id": "ERFr5sDcW8if",
        "colab": {
          "base_uri": "https://localhost:8080/"
        },
        "outputId": "8a4fdd7c-f9ad-41fe-9151-68a577a66c31"
      },
      "execution_count": null,
      "outputs": [
        {
          "output_type": "stream",
          "name": "stdout",
          "text": [
            "[2, 4, 6, 8]\n"
          ]
        }
      ]
    },
    {
      "cell_type": "markdown",
      "source": [
        "##Part 03: Erase_canvas"
      ],
      "metadata": {
        "id": "Jhuten6wGrtl"
      }
    },
    {
      "cell_type": "markdown",
      "source": [
        "##Part 04: flowing_with_data_structures"
      ],
      "metadata": {
        "id": "0v23lZslHt02"
      }
    },
    {
      "cell_type": "code",
      "source": [
        "def add_three_copies(my_list, data):\n",
        "  for i in range(3):\n",
        "    my_list.append(data)\n",
        "\n",
        "def main():\n",
        "  message : str = input(\"Enter a message to copy: \")\n",
        "  my_list : list = []\n",
        "  print(\"List before:\", my_list)\n",
        "  add_three_copies(my_list, message)\n",
        "  print(\"List after:\", my_list)\n",
        "\n",
        "if __name__ == '__main__':\n",
        "  main()"
      ],
      "metadata": {
        "colab": {
          "base_uri": "https://localhost:8080/"
        },
        "id": "xHpEP11TN3lT",
        "outputId": "2e19ada6-3960-45df-863e-0584587b8aac"
      },
      "execution_count": null,
      "outputs": [
        {
          "output_type": "stream",
          "name": "stdout",
          "text": [
            "Enter a message to copy: good\n",
            "List before: []\n",
            "List after: ['good', 'good', 'good']\n"
          ]
        }
      ]
    },
    {
      "cell_type": "markdown",
      "source": [
        "##Part 05: get_first_elemen\n"
      ],
      "metadata": {
        "id": "SNjnQG38_Dz8"
      }
    },
    {
      "cell_type": "code",
      "source": [
        "\n",
        "def get_first_element(lst):\n",
        "    \"\"\"\n",
        "    Prints the first element of a provided list.\n",
        "    \"\"\"\n",
        "\n",
        "    print(lst[0])\n",
        "\n",
        "# There is no need to edit code beyond this point\n",
        "\n",
        "def get_lst():\n",
        "    \"\"\"\n",
        "    Prompts the user to enter one element of the list at a time and returns the resulting list.\n",
        "    \"\"\"\n",
        "    lst = []\n",
        "    elem: str = input(\"Please enter an element of the list or press enter to stop. \")\n",
        "    while elem != \"\":\n",
        "        lst.append(elem)\n",
        "        elem = input(\"Please enter an element of the list or press enter to stop. \")\n",
        "    return lst\n",
        "\n",
        "def main():\n",
        "    lst = get_lst()\n",
        "    get_first_element(lst)\n",
        "\n",
        "\n",
        "if __name__ == '__main__':\n",
        "    main()\n",
        "\n"
      ],
      "metadata": {
        "colab": {
          "base_uri": "https://localhost:8080/"
        },
        "id": "GNRTwvIGkLGv",
        "outputId": "ec249583-21d0-4a0f-ee11-f3f3f7641fcc"
      },
      "execution_count": null,
      "outputs": [
        {
          "output_type": "stream",
          "name": "stdout",
          "text": [
            "Please enter an element of the list or press enter to stop. a\n",
            "Please enter an element of the list or press enter to stop. b\n",
            "Please enter an element of the list or press enter to stop. c\n",
            "Please enter an element of the list or press enter to stop. b\n",
            "Please enter an element of the list or press enter to stop. \n",
            "a\n"
          ]
        }
      ]
    },
    {
      "cell_type": "markdown",
      "source": [
        "##Part 06: get_last_element"
      ],
      "metadata": {
        "id": "vUvMtsykMpkF"
      }
    },
    {
      "cell_type": "code",
      "source": [
        "\n",
        "def get_first_element(lst):\n",
        "    \"\"\"\n",
        "    Prints the first element of a provided list.\n",
        "    \"\"\"\n",
        "\n",
        "    print(lst[-1])\n",
        "\n",
        "# There is no need to edit code beyond this point\n",
        "\n",
        "def get_lst():\n",
        "    \"\"\"\n",
        "    Prompts the user to enter one element of the list at a time and returns the resulting list.\n",
        "    \"\"\"\n",
        "    lst = []\n",
        "    elem: str = input(\"Please enter an element of the list or press enter to stop. \")\n",
        "    while elem != \"\":\n",
        "        lst.append(elem)\n",
        "        elem = input(\"Please enter an element of the list or press enter to stop. \")\n",
        "    return lst\n",
        "\n",
        "def main():\n",
        "    lst = get_lst()\n",
        "    get_first_element(lst)\n",
        "\n",
        "\n",
        "if __name__ == '__main__':\n",
        "    main()\n",
        "\n"
      ],
      "metadata": {
        "colab": {
          "base_uri": "https://localhost:8080/"
        },
        "id": "KLJ18WZUOIIY",
        "outputId": "a1b0d2c1-7e4e-4a9d-89f3-7063837f9034"
      },
      "execution_count": null,
      "outputs": [
        {
          "output_type": "stream",
          "name": "stdout",
          "text": [
            "Please enter an element of the list or press enter to stop. e\n",
            "Please enter an element of the list or press enter to stop. u\n",
            "Please enter an element of the list or press enter to stop. d\n",
            "Please enter an element of the list or press enter to stop. \n",
            "d\n"
          ]
        }
      ]
    },
    {
      "cell_type": "markdown",
      "source": [
        "##Part 07: get_list"
      ],
      "metadata": {
        "id": "GVzVw0vkLFvG"
      }
    },
    {
      "cell_type": "code",
      "source": [
        "def main():\n",
        "    lst = []  # Make an empty list to store things in\n",
        "\n",
        "    val = input(\"Enter a value: \")  # Get an initial value\n",
        "    while val:  # While the user input isn't an empty value\n",
        "        lst.append(val) # Add val to list\n",
        "        val = input(\"Enter a value you want enter into the list: \")  # Get the next value to add\n",
        "\n",
        "    print(f\"Here's the list: {lst}\")\n",
        "\n",
        "\n",
        "# There is no need to edit code beyond this point\n",
        "\n",
        "if __name__ == '__main__':\n",
        "    main()"
      ],
      "metadata": {
        "colab": {
          "base_uri": "https://localhost:8080/"
        },
        "id": "fSgH2azNM8GI",
        "outputId": "c4b3f08d-5473-4bdd-a10a-3324a1e88fa9"
      },
      "execution_count": null,
      "outputs": [
        {
          "output_type": "stream",
          "name": "stdout",
          "text": [
            "Enter a value: ali\n",
            "Enter a value you want enter into the list: jamal\n",
            "Enter a value you want enter into the list: fayyaz\n",
            "Enter a value you want enter into the list: \n",
            "Here's the list: ['ali', 'jamal', 'fayyaz']\n"
          ]
        }
      ]
    },
    {
      "cell_type": "markdown",
      "source": [
        "##Part 08: shorten"
      ],
      "metadata": {
        "id": "qxOIHh3YO8l1"
      }
    },
    {
      "cell_type": "code",
      "source": [
        "MAX_LENGTH : int = 3\n",
        "\n",
        "def shorten(lst):\n",
        "  while len(lst) > MAX_LENGTH:\n",
        "    last_elem = lst.pop()\n",
        "    print(last_elem)\n",
        "\n",
        "def get_lst():\n",
        "  \"\"\"\n",
        "  Prompts the user to enter one element of the list at a time and returns the resulting list.\n",
        "  \"\"\"\n",
        "  lst = []\n",
        "  elem: str = input(\"Please enter an element of the list or press enter to stop. \")\n",
        "  while elem != \"\":\n",
        "    lst.append(elem)\n",
        "    elem = input(\"Please enter an element of the list or press enter to stop. \")\n",
        "  return lst\n",
        "\n",
        "def main():\n",
        "  lst = get_lst()\n",
        "  shorten(lst)\n",
        "\n",
        "if __name__ == '__main__':\n",
        "  main()\n",
        "\n",
        "\n"
      ],
      "metadata": {
        "id": "lYgKBsvoPIeV",
        "colab": {
          "base_uri": "https://localhost:8080/"
        },
        "outputId": "00cf4f50-62c1-4ee9-e763-9a6b88039245"
      },
      "execution_count": null,
      "outputs": [
        {
          "output_type": "stream",
          "name": "stdout",
          "text": [
            "Please enter an element of the list or press enter to stop. ali\n",
            "Please enter an element of the list or press enter to stop. fatima\n",
            "Please enter an element of the list or press enter to stop. osama\n",
            "Please enter an element of the list or press enter to stop. fayyaz\n",
            "Please enter an element of the list or press enter to stop. talha\n",
            "Please enter an element of the list or press enter to stop. \n",
            "talha\n",
            "fayyaz\n"
          ]
        }
      ]
    },
    {
      "cell_type": "markdown",
      "source": [
        "##Part 08: dynamically shorten (length equal to the length of first element of the list)\n"
      ],
      "metadata": {
        "id": "fnRc6o8Vw8ST"
      }
    },
    {
      "cell_type": "code",
      "source": [
        "def shorten(lst):\n",
        "  if not lst:\n",
        "    return\n",
        "  MAX_LENGTH = len(lst[0])\n",
        "  while len(lst) > MAX_LENGTH:\n",
        "    last_elem = lst.pop()\n",
        "    print(last_elem)\n",
        "\n",
        "def get_lst():\n",
        "  \"\"\"\n",
        "  Prompts the user to enter one element of the list at a time and returns the resulting list.\n",
        "  \"\"\"\n",
        "  lst = []\n",
        "  elem: str = input(\"Please enter an element of the list or press enter to stop.\")\n",
        "  while elem != \"\":\n",
        "    lst.append(elem)\n",
        "    elem :str = input(\"Please enter an element of the list or press enter to stop.\")\n",
        "  return lst\n",
        "\n",
        "def main():\n",
        "  lst = get_lst()\n",
        "  shorten(lst)\n",
        "\n",
        "if __name__ == '__main__':\n",
        "  main()\n",
        "\n"
      ],
      "metadata": {
        "colab": {
          "base_uri": "https://localhost:8080/"
        },
        "id": "bnJjLssxw0y8",
        "outputId": "81a9a2bd-6b5e-4ee4-ad20-952ebbb5312c"
      },
      "execution_count": null,
      "outputs": [
        {
          "output_type": "stream",
          "name": "stdout",
          "text": [
            "Please enter an element of the list or press enter to stop.de\n",
            "Please enter an element of the list or press enter to stop.rose\n",
            "Please enter an element of the list or press enter to stop.ali\n",
            "Please enter an element of the list or press enter to stop.sara\n",
            "Please enter an element of the list or press enter to stop.zara\n",
            "Please enter an element of the list or press enter to stop.\n",
            "zara\n",
            "sara\n",
            "ali\n"
          ]
        }
      ]
    }
  ]
}