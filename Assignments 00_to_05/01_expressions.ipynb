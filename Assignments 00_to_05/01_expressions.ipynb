{
  "nbformat": 4,
  "nbformat_minor": 0,
  "metadata": {
    "colab": {
      "provenance": [],
      "authorship_tag": "ABX9TyOMVVAVz74F8dbhCpUP1zfs",
      "include_colab_link": true
    },
    "kernelspec": {
      "name": "python3",
      "display_name": "Python 3"
    },
    "language_info": {
      "name": "python"
    }
  },
  "cells": [
    {
      "cell_type": "markdown",
      "metadata": {
        "id": "view-in-github",
        "colab_type": "text"
      },
      "source": [
        "<a href=\"https://colab.research.google.com/github/JaveriaArshadQureshi/Assigment04ofpython/blob/main/Assignments%2000_to_05/01_expressions.ipynb\" target=\"_parent\"><img src=\"https://colab.research.google.com/assets/colab-badge.svg\" alt=\"Open In Colab\"/></a>"
      ]
    },
    {
      "cell_type": "markdown",
      "source": [
        "##Part 01: dicesimulator"
      ],
      "metadata": {
        "id": "F-itnsT68T2O"
      }
    },
    {
      "cell_type": "code",
      "source": [
        "import random\n",
        "\n",
        "NUM_SIDES = 6\n",
        "\n",
        "def roll_dice():\n",
        "    die1 : int = random.randint(1,NUM_SIDES)\n",
        "    print(\"die1:\" +  str(die1))\n",
        "    die2 : int = random.randint(1,NUM_SIDES)\n",
        "    print(\"die2:\" +  str(die2))\n",
        "    total : int = die1 + die2\n",
        "\n",
        "\n",
        "    print(\"Total of two dice: \", total)\n",
        "\n",
        "def main():\n",
        "    die1 : int = 10\n",
        "    print(\"die1 in main() start as: \" + str(die1))\n",
        "    roll_dice()\n",
        "    roll_dice()\n",
        "    roll_dice()\n",
        "    print(\"die1 in main() is: \" + str(die1))\n",
        "\n",
        "    # This provided line is required at the end of a Python file\n",
        "# to call the main() function.\n",
        "\n",
        "if __name__ == '__main__':\n",
        "    main()\n",
        "\n"
      ],
      "metadata": {
        "colab": {
          "base_uri": "https://localhost:8080/"
        },
        "id": "NEFN6H-f8lrl",
        "outputId": "b2df5481-b4d3-4bff-fb2c-35337138039e"
      },
      "execution_count": null,
      "outputs": [
        {
          "output_type": "stream",
          "name": "stdout",
          "text": [
            "die1 in main() start as: 10\n",
            "die1:3\n",
            "die2:2\n",
            "Total of two dice:  5\n",
            "die1:4\n",
            "die2:3\n",
            "Total of two dice:  7\n",
            "die1:1\n",
            "die2:6\n",
            "Total of two dice:  7\n",
            "die1 in main() is: 10\n"
          ]
        }
      ]
    },
    {
      "cell_type": "markdown",
      "source": [
        "##Part 02: e=mc2.md\n"
      ],
      "metadata": {
        "id": "d1Y2fUqD4aSS"
      }
    },
    {
      "cell_type": "code",
      "source": [
        "C: int = 299792458  # The speed of light in m/s\n",
        "def main():\n",
        "    mass_in_kg : float = float(input(\"Enter kilos of mass: \"))\n",
        "    # Calculate energy\n",
        "    # equivalently energy = mass * (C ** 2)\n",
        "    # using the ** operator to raise C to the power of 2\n",
        "    energy_in_joules: float = mass_in_kg * (C ** 2)\n",
        "\n",
        "     # Display work to the user\n",
        "    print(\"e = m * C^2...\")\n",
        "    print(\"m = \" + str(mass_in_kg) + \" kg\")\n",
        "    print(\"C = \" + str(C) + \" m/s\")\n",
        "\n",
        "    print(str(energy_in_joules) + \" joules of energy!\")\n",
        "\n",
        "\n",
        "# There is no need to edit code beyond this point\n",
        "\n",
        "if __name__ == '__main__':\n",
        "    main()"
      ],
      "metadata": {
        "colab": {
          "base_uri": "https://localhost:8080/"
        },
        "id": "E_SGzBuk6r2L",
        "outputId": "39da53cb-66de-4546-9d0d-1a52c203349c"
      },
      "execution_count": null,
      "outputs": [
        {
          "output_type": "stream",
          "name": "stdout",
          "text": [
            "Enter kilos of mass: 20\n",
            "e = m * C^2...\n",
            "m = 20.0 kg\n",
            "C = 299792458 m/s\n",
            "1.7975103574736353e+18 joules of energy!\n"
          ]
        }
      ]
    },
    {
      "cell_type": "markdown",
      "source": [
        "##Part 03 feet_to_inches"
      ],
      "metadata": {
        "id": "pWEAHOo15Q3m"
      }
    },
    {
      "cell_type": "code",
      "source": [
        "INCHES_IN_FOOT : int = 12  # Conversion factor. There are 12 inches for 1 foot.\n",
        "\n",
        "def main():\n",
        "    feet : float = float(input(\"Enter number of feet: \"))  # Get the number of feet, make sure to cast it to a float!\n",
        "    inches : float = feet * INCHES_IN_FOOT  # Perform the conversion\n",
        "    print(\"That is\", inches, \"inches!\")\n",
        "\n",
        "\n",
        "\n",
        "# This provided line is required at the end of a Python file\n",
        "# to call the main() function.\n",
        "if __name__ == '__main__':\n",
        "    main()\n"
      ],
      "metadata": {
        "colab": {
          "base_uri": "https://localhost:8080/"
        },
        "id": "mKyN6grE5eNB",
        "outputId": "a8fb9b75-3a9c-415b-8576-a5c2ccaf2567"
      },
      "execution_count": null,
      "outputs": [
        {
          "output_type": "stream",
          "name": "stdout",
          "text": [
            "Enter number of feet: 50\n",
            "That is 600.0 inches!\n"
          ]
        }
      ]
    },
    {
      "cell_type": "markdown",
      "source": [
        "##Part 04: pythagorean_theorem\n"
      ],
      "metadata": {
        "id": "Y2vol1hF9vXX"
      }
    },
    {
      "cell_type": "code",
      "source": [
        "import math # Import the math library so we can use the sqrt function\n",
        "\n",
        "def main():\n",
        "    # Get the two side lengths from the user and cast them to be numbers\n",
        "    ab : float = float(input(\"Enter the length of AB: \"))\n",
        "    ac : float = float(input(\"Enter the length of AC: \"))\n",
        "    # Calculate the hypotenuse using the two sides and print it out\n",
        "    bc : float = math.sqrt(ab**2 + ac**2)\n",
        "    print(\"The length of BC (the hypotenuse) is: \" + str(bc))\n",
        "\n",
        "# This provided line is required at the end of a Python file\n",
        "# to call the main() function.\n",
        "if __name__ == '__main__':\n",
        "    main()\n",
        "\n"
      ],
      "metadata": {
        "colab": {
          "base_uri": "https://localhost:8080/"
        },
        "id": "DwoRXV7x-rN_",
        "outputId": "744c73e9-91bf-4073-ddad-117bfce4f543"
      },
      "execution_count": null,
      "outputs": [
        {
          "name": "stdout",
          "output_type": "stream",
          "text": [
            "Enter the length of AB: 3\n"
          ]
        }
      ]
    },
    {
      "cell_type": "markdown",
      "source": [
        "##Part 04: Remainder_division"
      ],
      "metadata": {
        "id": "TM676OpMh1iq"
      }
    },
    {
      "cell_type": "code",
      "source": [
        "def main():\n",
        "    dividend: int = int(input(\"Please enter an integer to be divided: \"))\n",
        "    divisor  :  int = int(input(\"Please enter an integer to divide by: \"))\n",
        "\n",
        "    quotient : int  = dividend // divisor  # Divide with no remainder/decimals (integer division)\n",
        "    remainder : int = dividend % divisor   # Get the remainder of the division (modulo)\n",
        "\n",
        "    print(\"The result of this division is \" + str(quotient) + \" with a remainder of \" + str(remainder))\n",
        "\n",
        "if  __name__ == '__main__':\n",
        "    main()\n",
        "\n",
        "\n"
      ],
      "metadata": {
        "colab": {
          "base_uri": "https://localhost:8080/"
        },
        "id": "KPW9ByrTlGrx",
        "outputId": "cfbe53fa-f265-43b7-c7b2-e8658c9f270e"
      },
      "execution_count": null,
      "outputs": [
        {
          "output_type": "stream",
          "name": "stdout",
          "text": [
            "Please enter an integer to be divided: 6\n",
            "Please enter an integer to divide by: 2\n",
            "The result of this division is 3 with a remainder of 0\n"
          ]
        }
      ]
    },
    {
      "cell_type": "markdown",
      "source": [
        "##Part 05: rolldice"
      ],
      "metadata": {
        "id": "lFBYDN1qvXEu"
      }
    },
    {
      "cell_type": "code",
      "source": [
        "# Import the random library which lets us simulate random things like dice!\n",
        "import random\n",
        "\n",
        "# Number of sides on each die to roll\n",
        "NUM_SIDES :int = 6\n",
        "\n",
        "def main():\n",
        "   # Setting a seed is useful for debugging (uncomment the line below to do so!)\n",
        "    # random.seed(1)\n",
        "\n",
        "    # Roll die\n",
        "    # 1 (First Argument) → This is the minimum value, meaning the smallest number the dice can roll. Since a die has at least 1 on its face, we start from 1.\n",
        "  # NUM_SIDES (Second Argument) → This is the maximum value, meaning the highest number the dice can roll. In this case, NUM_SIDES = 6, so the highest value is 6.\n",
        "    die1 : int = random.randint(1,NUM_SIDES)\n",
        "    die2 : int = random.randint(1,NUM_SIDES)\n",
        "\n",
        "    # Get their total\n",
        "    total: int = die1 + die2\n",
        "    print(\"Diece have\",NUM_SIDES,\"sides each.\")\n",
        "    print(\"First die: \",die1)\n",
        "    print(\"Second die: \",die2)\n",
        "    print(\"Total of two dieceL: \",total)\n",
        "\n",
        "if __name__ == '__main__':\n",
        "  main()"
      ],
      "metadata": {
        "colab": {
          "base_uri": "https://localhost:8080/"
        },
        "id": "7zew0r8Zv0Em",
        "outputId": "692747c3-b56f-41d4-f5ab-65307f68361f"
      },
      "execution_count": null,
      "outputs": [
        {
          "output_type": "stream",
          "name": "stdout",
          "text": [
            "Diece have 6 sides each.\n",
            "First die:  6\n",
            "Second die:  6\n",
            "Total of two dieceL:  12\n"
          ]
        }
      ]
    },
    {
      "cell_type": "markdown",
      "source": [
        "##Part 06: Seconds_IN_Year\n"
      ],
      "metadata": {
        "id": "KTFcsONb3GRQ"
      }
    },
    {
      "cell_type": "code",
      "source": [
        "# Useful constants to help make the math easier and cleaner!\n",
        "DAYS_PER_YEAR: int = 365\n",
        "HOURS_PER_DAY: int = 24\n",
        "MIN_PER_HOUR: int = 60\n",
        "SEC_PER_MIN: int = 60\n",
        "\n",
        "def main():\n",
        "    # We can get the number of seconds per year by multiplying the handy constants above!\n",
        "    print(\"There are \" + str(DAYS_PER_YEAR * HOURS_PER_DAY * MIN_PER_HOUR * SEC_PER_MIN) + \" seconds in a year!\")\n",
        "\n",
        "\n",
        "# There is no need to edit code beyond this point\n",
        "\n",
        "if __name__ == '__main__':\n",
        "    main()"
      ],
      "metadata": {
        "colab": {
          "base_uri": "https://localhost:8080/"
        },
        "id": "4fU4DZOr3W8y",
        "outputId": "9c595ad7-e18b-419e-c0d6-23eb42a51044"
      },
      "execution_count": null,
      "outputs": [
        {
          "output_type": "stream",
          "name": "stdout",
          "text": [
            "There are 31536000 seconds in a year!\n"
          ]
        }
      ]
    },
    {
      "cell_type": "markdown",
      "source": [
        "##Part 07: tiny_mad_lib"
      ],
      "metadata": {
        "id": "N7sD89xV32yG"
      }
    },
    {
      "cell_type": "code",
      "source": [
        "SENTENCE : str = \"Panaversity is fun. I learned to program and used Python to make my \"\n",
        "def main():\n",
        "    adjective : str = input(\"Please type an adjective and press enter. \")\n",
        "    noun : str = input(\"Please type a noun and press enter. \")\n",
        "    verb : str = input(\"Please type a verb and press enter. \")\n",
        "\n",
        "    print(SENTENCE + adjective + \" \" + noun + \" \" + verb + \"!\")\n",
        "# There is no need to edit code beyond this point\n",
        "\n",
        "if __name__ == '__main__':\n",
        "    main()\n"
      ],
      "metadata": {
        "colab": {
          "base_uri": "https://localhost:8080/"
        },
        "id": "NE7tl7rw4Gzn",
        "outputId": "36906783-4750-4392-d47d-d16aaddd678f"
      },
      "execution_count": null,
      "outputs": [
        {
          "output_type": "stream",
          "name": "stdout",
          "text": [
            "Please type an adjective and press enter. big\n",
            "Please type a noun and press enter. dream\n",
            "Please type a verb and press enter. accomplish\n",
            "Panaversity is fun. I learned to program and used Python to make my big dream accomplish!\n"
          ]
        }
      ]
    }
  ]
}